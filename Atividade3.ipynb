{
  "nbformat": 4,
  "nbformat_minor": 0,
  "metadata": {
    "colab": {
      "provenance": [],
      "authorship_tag": "ABX9TyMS+nAA0XB8OGQ606B7r+La",
      "include_colab_link": true
    },
    "kernelspec": {
      "name": "python3",
      "display_name": "Python 3"
    },
    "language_info": {
      "name": "python"
    }
  },
  "cells": [
    {
      "cell_type": "markdown",
      "metadata": {
        "id": "view-in-github",
        "colab_type": "text"
      },
      "source": [
        "<a href=\"https://colab.research.google.com/github/LorenzoAHenrique/EstruturaDeDados/blob/main/Atividade3.ipynb\" target=\"_parent\"><img src=\"https://colab.research.google.com/assets/colab-badge.svg\" alt=\"Open In Colab\"/></a>"
      ]
    },
    {
      "cell_type": "markdown",
      "source": [
        "# Atividade 3 Faculdade"
      ],
      "metadata": {
        "id": "TXdcjIE9FlC0"
      }
    },
    {
      "cell_type": "code",
      "source": [
        "#Atividade 3\n",
        "\n",
        "list_numeros = [1, 2, 3, 4, 5]                  #cria nossa primeira lista\n",
        "stack_numeros = []\n",
        "while list_numeros:\n",
        "    stack_numeros.append(list_numeros.pop(0))   #lista para a pilha (FIFO)\n",
        "q_numeros = []\n",
        "while stack_numeros:\n",
        "    q_numeros.append(stack_numeros.pop())       #pilha para a lista (LIFO)\n",
        "list_numeros = [6, 7, 8, 9, 10]                 #cria nova lista\n",
        "while list_numeros:\n",
        "    stack_numeros.append(list_numeros.pop(0))   #nova lista para a pilha (FIFO)\n",
        "while stack_numeros:\n",
        "    q_numeros.append(stack_numeros.pop())       #nova pilha para a fila (LIFO)\n",
        "print(\"Números na fila:\", q_numeros)            #printa a fila"
      ],
      "metadata": {
        "colab": {
          "base_uri": "https://localhost:8080/"
        },
        "id": "Uqh7ntVnU9IU",
        "outputId": "b33cc438-65e4-4e75-919e-d31a4a98b1ed"
      },
      "execution_count": null,
      "outputs": [
        {
          "output_type": "stream",
          "name": "stdout",
          "text": [
            "Números na fila: [5, 4, 3, 2, 1, 10, 9, 8, 7, 6]\n"
          ]
        }
      ]
    },
    {
      "cell_type": "markdown",
      "source": [
        "Podemos ver que a ordem saiu o contrario do que foi definido pelas Listas (1,2,3,4,5) e (6,7,8,9,10).\n",
        "\n",
        "\n",
        "Isso aconteceu por que diferente da lista, a pilha passa o ultimo item armazenado primeiro (LIFO), sendo assim a nossa fila vai ficar com os numeros reversos do que foi definido."
      ],
      "metadata": {
        "id": "ZprpKsUwWWBT"
      }
    },
    {
      "cell_type": "markdown",
      "source": [
        "## **Fiz o código abaixo para visualizar o funcionamento das lista, pilhas e filas**"
      ],
      "metadata": {
        "id": "sNpmj9bdVMKn"
      }
    },
    {
      "cell_type": "code",
      "source": [
        "#Atividade 3 Visualizador de listas, pilhas e filas\n",
        "\n",
        "list_numeros = [1, 2, 3, 4, 5]       \n",
        "stack_numeros = []\n",
        "while list_numeros:\n",
        "    print('Lista', list_numeros, 'fifo')\n",
        "    stack_numeros.append(list_numeros.pop(0))\n",
        "    print('Pilha', stack_numeros, 'lifo')\n",
        "q_numeros = []\n",
        "print('Pilha', stack_numeros, 'lifo')\n",
        "while stack_numeros:\n",
        "    print('Pilha', stack_numeros, 'lifo')\n",
        "    q_numeros.append(stack_numeros.pop())\n",
        "    print('Fila', q_numeros)\n",
        "list_numeros = [6, 7, 8, 9, 10]\n",
        "print('Lista', list_numeros, 'fifo')\n",
        "while list_numeros:\n",
        "    print('Pilha', stack_numeros, 'lifo')\n",
        "    stack_numeros.append(list_numeros.pop(0))\n",
        "while stack_numeros:\n",
        "    print('Pilha', stack_numeros, 'lifo')\n",
        "    q_numeros.append(stack_numeros.pop())\n",
        "    print(\"Números na fila:\", q_numeros)"
      ],
      "metadata": {
        "id": "umks1yXaimzL",
        "colab": {
          "base_uri": "https://localhost:8080/"
        },
        "outputId": "c19b3ed5-9b2b-4ac3-f145-9dc31bf8827f"
      },
      "execution_count": null,
      "outputs": [
        {
          "output_type": "stream",
          "name": "stdout",
          "text": [
            "Lista [1, 2, 3, 4, 5] fifo\n",
            "Pilha [1] lifo\n",
            "Lista [2, 3, 4, 5] fifo\n",
            "Pilha [1, 2] lifo\n",
            "Lista [3, 4, 5] fifo\n",
            "Pilha [1, 2, 3] lifo\n",
            "Lista [4, 5] fifo\n",
            "Pilha [1, 2, 3, 4] lifo\n",
            "Lista [5] fifo\n",
            "Pilha [1, 2, 3, 4, 5] lifo\n",
            "Pilha [1, 2, 3, 4, 5] lifo\n",
            "Pilha [1, 2, 3, 4, 5] lifo\n",
            "Fila [5]\n",
            "Pilha [1, 2, 3, 4] lifo\n",
            "Fila [5, 4]\n",
            "Pilha [1, 2, 3] lifo\n",
            "Fila [5, 4, 3]\n",
            "Pilha [1, 2] lifo\n",
            "Fila [5, 4, 3, 2]\n",
            "Pilha [1] lifo\n",
            "Fila [5, 4, 3, 2, 1]\n",
            "Lista [6, 7, 8, 9, 10] fifo\n",
            "Pilha [] lifo\n",
            "Pilha [6] lifo\n",
            "Pilha [6, 7] lifo\n",
            "Pilha [6, 7, 8] lifo\n",
            "Pilha [6, 7, 8, 9] lifo\n",
            "Pilha [6, 7, 8, 9, 10] lifo\n",
            "Números na fila: [5, 4, 3, 2, 1, 10]\n",
            "Pilha [6, 7, 8, 9] lifo\n",
            "Números na fila: [5, 4, 3, 2, 1, 10, 9]\n",
            "Pilha [6, 7, 8] lifo\n",
            "Números na fila: [5, 4, 3, 2, 1, 10, 9, 8]\n",
            "Pilha [6, 7] lifo\n",
            "Números na fila: [5, 4, 3, 2, 1, 10, 9, 8, 7]\n",
            "Pilha [6] lifo\n",
            "Números na fila: [5, 4, 3, 2, 1, 10, 9, 8, 7, 6]\n"
          ]
        }
      ]
    },
    {
      "cell_type": "markdown",
      "source": [
        "## Código abaixo está corrigido"
      ],
      "metadata": {
        "id": "P6GPZm1gaaCc"
      }
    },
    {
      "cell_type": "markdown",
      "source": [
        "Para sair na ordem correta podemos mudar o pop() que retira o ultimo elemento primeiro, e colocar pop(0) que retira o primeiro elemento primeiro.\n"
      ],
      "metadata": {
        "id": "-w_jcyFPaeXs"
      }
    },
    {
      "cell_type": "code",
      "source": [
        "#Atividade 3 corrigida\n",
        "\n",
        "list_numeros = [1, 2, 3, 4, 5]                  #cria nossa primeira lista\n",
        "stack_numeros = []\n",
        "while list_numeros:\n",
        "    stack_numeros.append(list_numeros.pop(0))   #lista para a pilha (FIFO)\n",
        "q_numeros = []\n",
        "while stack_numeros:\n",
        "    q_numeros.append(stack_numeros.pop(0))       #pilha para a lista (FIFO)\n",
        "list_numeros = [6, 7, 8, 9, 10]                 #cria nova lista\n",
        "while list_numeros:\n",
        "    stack_numeros.append(list_numeros.pop(0))   #nova lista para a pilha (FIFO)\n",
        "while stack_numeros:\n",
        "    q_numeros.append(stack_numeros.pop(0))       #nova pilha para a fila (FIFO)\n",
        "print(\"Números na fila:\", q_numeros)            #printa a fila"
      ],
      "metadata": {
        "colab": {
          "base_uri": "https://localhost:8080/"
        },
        "id": "Sswi-0WhWhrI",
        "outputId": "a772d76a-da24-4f04-8860-cde4f0ed0753"
      },
      "execution_count": null,
      "outputs": [
        {
          "output_type": "stream",
          "name": "stdout",
          "text": [
            "Números na fila: [1, 2, 3, 4, 5, 6, 7, 8, 9, 10]\n"
          ]
        }
      ]
    },
    {
      "cell_type": "code",
      "source": [
        "#Atividade 3 Visualizador de listas, pilhas e filas - CORRIGIDO\n",
        "\n",
        "list_numeros = [1, 2, 3, 4, 5]       \n",
        "stack_numeros = []\n",
        "while list_numeros:\n",
        "    print('Lista', list_numeros, 'fifo')\n",
        "    stack_numeros.append(list_numeros.pop(0))\n",
        "    print('Pilha', stack_numeros, 'fifo')\n",
        "q_numeros = []\n",
        "print('Pilha', stack_numeros, 'fifo')\n",
        "while stack_numeros:\n",
        "    print('Pilha', stack_numeros, 'fifo')\n",
        "    q_numeros.append(stack_numeros.pop(0))\n",
        "    print('Fila', q_numeros)\n",
        "list_numeros = [6, 7, 8, 9, 10]\n",
        "print('Lista', list_numeros, 'fifo')\n",
        "while list_numeros:\n",
        "    print('Pilha', stack_numeros, 'fifo')\n",
        "    stack_numeros.append(list_numeros.pop(0))\n",
        "while stack_numeros:\n",
        "    print('Pilha', stack_numeros, 'fifo')\n",
        "    q_numeros.append(stack_numeros.pop(0))\n",
        "    print(\"Números na fila:\", q_numeros)"
      ],
      "metadata": {
        "colab": {
          "base_uri": "https://localhost:8080/"
        },
        "id": "YlyBE4Y4aj9N",
        "outputId": "6e919fb9-81a1-42f7-e1d1-6c9a1f44cff2"
      },
      "execution_count": null,
      "outputs": [
        {
          "output_type": "stream",
          "name": "stdout",
          "text": [
            "Lista [1, 2, 3, 4, 5] fifo\n",
            "Pilha [1] fifo\n",
            "Lista [2, 3, 4, 5] fifo\n",
            "Pilha [1, 2] fifo\n",
            "Lista [3, 4, 5] fifo\n",
            "Pilha [1, 2, 3] fifo\n",
            "Lista [4, 5] fifo\n",
            "Pilha [1, 2, 3, 4] fifo\n",
            "Lista [5] fifo\n",
            "Pilha [1, 2, 3, 4, 5] fifo\n",
            "Pilha [1, 2, 3, 4, 5] fifo\n",
            "Pilha [1, 2, 3, 4, 5] fifo\n",
            "Fila [1]\n",
            "Pilha [2, 3, 4, 5] fifo\n",
            "Fila [1, 2]\n",
            "Pilha [3, 4, 5] fifo\n",
            "Fila [1, 2, 3]\n",
            "Pilha [4, 5] fifo\n",
            "Fila [1, 2, 3, 4]\n",
            "Pilha [5] fifo\n",
            "Fila [1, 2, 3, 4, 5]\n",
            "Lista [6, 7, 8, 9, 10] fifo\n",
            "Pilha [] fifo\n",
            "Pilha [6] fifo\n",
            "Pilha [6, 7] fifo\n",
            "Pilha [6, 7, 8] fifo\n",
            "Pilha [6, 7, 8, 9] fifo\n",
            "Pilha [6, 7, 8, 9, 10] fifo\n",
            "Números na fila: [1, 2, 3, 4, 5, 6]\n",
            "Pilha [7, 8, 9, 10] fifo\n",
            "Números na fila: [1, 2, 3, 4, 5, 6, 7]\n",
            "Pilha [8, 9, 10] fifo\n",
            "Números na fila: [1, 2, 3, 4, 5, 6, 7, 8]\n",
            "Pilha [9, 10] fifo\n",
            "Números na fila: [1, 2, 3, 4, 5, 6, 7, 8, 9]\n",
            "Pilha [10] fifo\n",
            "Números na fila: [1, 2, 3, 4, 5, 6, 7, 8, 9, 10]\n"
          ]
        }
      ]
    }
  ]
}